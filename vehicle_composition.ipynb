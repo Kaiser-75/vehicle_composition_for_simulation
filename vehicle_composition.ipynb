{
  "nbformat": 4,
  "nbformat_minor": 0,
  "metadata": {
    "colab": {
      "provenance": []
    },
    "kernelspec": {
      "name": "python3",
      "display_name": "Python 3"
    },
    "language_info": {
      "name": "python"
    }
  },
  "cells": [
    {
      "cell_type": "code",
      "execution_count": 1,
      "metadata": {
        "colab": {
          "base_uri": "https://localhost:8080/"
        },
        "id": "_QOTbNyoU4Km",
        "outputId": "6e6f5c10-3527-4bd2-af7a-4992a2ee9471"
      },
      "outputs": [
        {
          "output_type": "stream",
          "name": "stdout",
          "text": [
            "Mounted at /content/drive\n"
          ]
        }
      ],
      "source": [
        "from google.colab import drive\n",
        "drive.mount('/content/drive')"
      ]
    },
    {
      "cell_type": "code",
      "source": [
        "!pip install pyDOE"
      ],
      "metadata": {
        "colab": {
          "base_uri": "https://localhost:8080/"
        },
        "id": "gir9v2UrZhHP",
        "outputId": "8911715f-dd2d-4eae-e414-ba246dc5ea78"
      },
      "execution_count": 15,
      "outputs": [
        {
          "output_type": "stream",
          "name": "stdout",
          "text": [
            "Collecting pyDOE\n",
            "  Downloading pyDOE-0.3.8.zip (22 kB)\n",
            "  Preparing metadata (setup.py) ... \u001b[?25l\u001b[?25hdone\n",
            "Requirement already satisfied: numpy in /usr/local/lib/python3.10/dist-packages (from pyDOE) (1.25.2)\n",
            "Requirement already satisfied: scipy in /usr/local/lib/python3.10/dist-packages (from pyDOE) (1.11.4)\n",
            "Building wheels for collected packages: pyDOE\n",
            "  Building wheel for pyDOE (setup.py) ... \u001b[?25l\u001b[?25hdone\n",
            "  Created wheel for pyDOE: filename=pyDOE-0.3.8-py3-none-any.whl size=18168 sha256=758839d27afc1d34d9075d621bffc8409e5886943c72eefc30ea31a798155811\n",
            "  Stored in directory: /root/.cache/pip/wheels/ce/b6/d7/c6b64746dba6433c593e471e0ac3acf4f36040456d1d160d17\n",
            "Successfully built pyDOE\n",
            "Installing collected packages: pyDOE\n",
            "Successfully installed pyDOE-0.3.8\n"
          ]
        }
      ]
    },
    {
      "cell_type": "code",
      "source": [
        "import numpy as np\n",
        "from pyDOE import lhs\n",
        "import pandas as pd\n",
        "\n",
        "num_samples = 200\n",
        "num_sets = 10\n",
        "parameter_names = [\"Heavy Truck\", \"Medium Truck\", \"Small Truck\", \"Large Bus\", \"Medium Bus\", \"Micro Bus\", \"Utility/Jeep/Pick up\", \"Car\", \"CNG/Tempo\", \"Motor Cycle\"]\n",
        "\n",
        "parameter_ranges = {\n",
        "    \"Heavy Truck\": (0, 2),\n",
        "    \"Medium Truck\": (0, 78),\n",
        "    \"Small Truck\": (0, 101),\n",
        "    \"Large Bus\": (0, 26),\n",
        "    \"Medium Bus\": (0, 85),\n",
        "    \"Micro Bus\": (0, 246),\n",
        "    \"Utility/Jeep/Pick up\": (0, 221),\n",
        "    \"Car\": (0, 963),\n",
        "    \"CNG/Tempo\": (0, 634),\n",
        "    \"Motor Cycle\": (0, 1111)\n",
        "}\n",
        "\n",
        "road_names = [\n",
        "    \"Farmgate to Jahangir Gate\", \"Farmgate to Sangsad\", \"Farmgate to Tejgaon\",\n",
        "    \"Jahangir Gate to Farmgate\", \"Jahangir Gate to Sangsad\", \"Jahangir Gate to Tejgaon\",\n",
        "    \"Sangsad to Tejgaon\", \"Sangsad to Farmgate\", \"Sangsad to Jahangir Gate\",\n",
        "    \"Tejgaon to Farmgate\", \"Tejgaon to Jahangir Gate\", \"Tejgaon to Sangsad\"\n",
        "]\n",
        "\n",
        "for set_index in range(1, num_sets + 1):\n",
        "    transformed_samples = pd.DataFrame(columns=[\"Road Name\"] + parameter_names)\n",
        "    samples = lhs(len(parameter_names), samples=num_samples, criterion='maximin')\n",
        "\n",
        "    for i, param_name in enumerate(parameter_names):\n",
        "        min_val, max_val = parameter_ranges[param_name]\n",
        "        scaled_values = samples[:, i] * (max_val - min_val) + min_val\n",
        "        rounded_values = np.round(scaled_values).astype(int)\n",
        "        transformed_samples[param_name] = rounded_values\n",
        "\n",
        "    sampled_road_names = np.random.choice(road_names, size=num_samples, replace=True)\n",
        "    transformed_samples[\"Road Name\"] = sampled_road_names\n",
        "\n",
        "    output_csv_file = f\"sampled_data_{set_index}.csv\"\n",
        "    transformed_samples.to_csv(output_csv_file, index=False)\n",
        "\n"
      ],
      "metadata": {
        "id": "DyZDm-hqdXin"
      },
      "execution_count": 21,
      "outputs": []
    }
  ]
}